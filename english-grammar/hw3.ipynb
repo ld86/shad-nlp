{
 "metadata": {
  "name": "",
  "signature": "sha256:33295d0baa5859b51ef3e951aa0b0e8056ea72406e7eba120e30ca9e62c83fd7"
 },
 "nbformat": 3,
 "nbformat_minor": 0,
 "worksheets": [
  {
   "cells": [
    {
     "cell_type": "markdown",
     "metadata": {},
     "source": [
      "1\n",
      "2\n",
      "3\n",
      "4\n",
      "6\n",
      "7\n",
      "9\n",
      "11"
     ]
    },
    {
     "cell_type": "code",
     "collapsed": false,
     "input": [
      "import nltk\n",
      "import sys"
     ],
     "language": "python",
     "metadata": {},
     "outputs": [],
     "prompt_number": 113
    },
    {
     "cell_type": "code",
     "collapsed": false,
     "input": [
      "grammar = '''\n",
      "    % start S\n",
      "\n",
      "    S -> NP[num=?n, pers=?p] VP[num=?n, pers=?p] ADV\n",
      "    \n",
      "    NP[num=?n, pers=?p] -> D[num=?n, symb=?s] N[num=?n, pers=?p, symb=?s] | D[num=?n, symb=?s] ADJ[symb=?s] N[num=?n, pers=?p] | NN[num=?n, pers=?p]\n",
      "    VP[num=?n, pers=?p] -> VV[num=?n, pers=?p]\n",
      "    \n",
      "    VV[num=sg, pers=1] -> 'am' | 'am' NP | 'am' ADJ | 'am' 'not' | 'am' 'not' NP | 'am' 'not' ADJ | 'do' 'not' V | V\n",
      "    VV[num=sg, pers=2] -> 'are' | 'are' NP | 'are' ADJ | 'are' 'not' | 'are' 'not' NP | 'are' 'not' ADJ | 'do' 'not' V | V    \n",
      "    VV[num=sg, pers=3] -> 'is' | 'is' NP | 'is' ADJ | 'is' 'not'| 'is' 'not' NP | 'is' 'not' ADJ | 'does' 'not' V | VS\n",
      "    VV[num=pl] -> 'are' | 'are' NP | 'are' ADJ | 'are' 'not' | 'are' 'not' NP | 'are' 'not' ADJ | 'do' 'not' V | V \n",
      "    VV -> MODAL V | MODAL 'not' V\n",
      "    \n",
      "    MODAL -> 'should' | 'can' | 'may'\n",
      "        \n",
      "    V -> V1 | V2 NP | V3 NP P NP | V3 NP NP\n",
      "    V1 -> 'cook' | 'eat' | 'walk' | 'talk' | 'sit' | 'lie' | 'see' | 'stand' | 'sleep' | 'jump' | 'stand'\n",
      "    V2 -> 'cook' | 'catch' | 'eat' | 'see' | 'like' | 'complete'\n",
      "    V3 -> 'give'\n",
      "    \n",
      "    VS -> V1S | V2S NP | V3S NP P NP | V3S NP NP\n",
      "    V1S -> 'cooks' | 'walks' | 'talks'| 'eats' | 'lies' | 'sees' | 'stands' | 'sleeps' | 'jumps' | 'stand'\n",
      "    V2S -> 'cooks' | 'catches' | 'eats' | 'sees' | 'likes'\n",
      "    V3S -> 'gives'\n",
      "    \n",
      "    \n",
      "    N[num=sg, pers=3, symb=c] -> 'homework' | 'pet' | 'doctor' | 'steak' | 'cake' | 'pizza' | 'burger' | 'dog' | 'table' | 'street' | 'chair' | 'ball' | 'breakfast' | 'tomato' | 'ground' | 'floor' | 'fork'\n",
      "    N[num=pl, pers=3, symb=c] -> 'burgers' | 'dogs' | 'streets' | 'balls' | 'tomatoes' | 'tables'\n",
      "    N[num=sg, pers=3, symb=v] -> 'apple'\n",
      "    N[num=pl, pers=3, symb=v] -> 'apples'\n",
      "    \n",
      "    NN[num=sg, pers=1] -> 'I'\n",
      "    NN[num=pl, pers=1] -> 'we'\n",
      "    NN[num=sg, pers=2] -> 'you'\n",
      "    NN[num=sg, pers=3] -> 'Mary' | 'John' | 'he' | 'she' | 'it'\n",
      "    NN[num=pl, pers=3] -> 'they' \n",
      "    \n",
      "    D[num=sg, symb=v] -> 'an'\n",
      "    D[num=sg, symb=c] -> 'a'\n",
      "    D[num=sg] -> 'this' | 'that' \n",
      "    D[num=pl] -> 'these' | 'those'\n",
      "    D -> 'the' | 'its' | 'her' | 'my'\n",
      "    \n",
      "    P -> 'on' | 'to' | 'over'\n",
      "    \n",
      "    ADV -> P NP |\n",
      "    \n",
      "    ADJ[symb=c] -> 'red' | 'wooden' | 'tired'\n",
      "'''\n",
      "\n",
      "def Assert(lines_pos, lines_neg, debug):\n",
      "    GRAMMAR = nltk.parse_fcfg(grammar)\n",
      "    parser = nltk.parse.FeatureEarleyChartParser(GRAMMAR)\n",
      "    for line_pos in lines_pos:\n",
      "        if debug:\n",
      "            print(line_pos)\n",
      "        parses = parser.parse(line_pos.split())\n",
      "        if debug:\n",
      "            print(parses)\n",
      "        assert parses\n",
      "\n",
      "\n",
      "\n",
      "    for line_neg in lines_neg:\n",
      "        if debug:\n",
      "            print(line_neg)\n",
      "        parses = parser.parse(line_neg.split())\n",
      "        if debug:\n",
      "            print(parses)\n",
      "        assert not parses"
     ],
     "language": "python",
     "metadata": {},
     "outputs": [],
     "prompt_number": 406
    },
    {
     "cell_type": "markdown",
     "metadata": {},
     "source": [
      "\u0421\u043e\u0433\u043b\u0430\u0441\u043e\u0432\u0430\u043d\u043d\u043e\u0441\u0442\u044c \u043f\u043e\u0434\u043b\u0435\u0436\u0430\u0449\u0435\u0433\u043e \u0438 \u0441\u043a\u0430\u0437\u0443\u0435\u043c\u043e\u0433\u043e"
     ]
    },
    {
     "cell_type": "code",
     "collapsed": false,
     "input": [
      "pos = [\n",
      "    'Mary walks',\n",
      "    'John talks',\n",
      "    'I sleep',\n",
      "    'they sleep',\n",
      "    'he sleeps',\n",
      "    'she talks',\n",
      "    'it walks',\n",
      "    'the table stands on the floor',\n",
      "    'she is red',\n",
      "    'it is a pizza',\n",
      "    'I am a doctor',\n",
      "    'my pet is a dog'\n",
      "]\n",
      "neg = [\n",
      "    'Mary',\n",
      "    'sleep walks',\n",
      "    'an I walks',\n",
      "    'I sleeps',\n",
      "    'Mary walk',\n",
      "    'walks',\n",
      "    'he sleep',\n",
      "    'they sleeps',\n",
      "    'I',\n",
      "    'I is a table',\n",
      "    'you am a ground',\n",
      "    'my pet are the dogs'\n",
      "]\n",
      "Assert(pos, neg, False)"
     ],
     "language": "python",
     "metadata": {},
     "outputs": [],
     "prompt_number": 374
    },
    {
     "cell_type": "markdown",
     "metadata": {},
     "source": [
      "\u0421\u043e\u0433\u043b\u0430\u0441\u043e\u0432\u0430\u043d\u043d\u043e\u0441\u0442\u044c \u0432\u043d\u0443\u0442\u0440\u0438 \u0438\u043c\u0435\u043d\u043d\u044b\u0445 \u0433\u0440\u0443\u043f\u043f"
     ]
    },
    {
     "cell_type": "code",
     "collapsed": false,
     "input": [
      "pos = [\n",
      "    'a dog catches its ball',\n",
      "    'Mary eats her breakfast',\n",
      "    'John sees that apple',\n",
      "    'John sees this apple',\n",
      "    'John sees those apples',\n",
      "    'John sees these apples'\n",
      "]\n",
      "\n",
      "neg = [\n",
      "    'John sees that apples',\n",
      "    'John sees this apples',\n",
      "    'John sees those apple',\n",
      "    'John sees these apple',\n",
      "    'I eat that tomatoes'\n",
      "]\n",
      "Assert(pos, neg, False)"
     ],
     "language": "python",
     "metadata": {},
     "outputs": [],
     "prompt_number": 375
    },
    {
     "cell_type": "markdown",
     "metadata": {},
     "source": [
      "\u041f\u043e\u0434\u0434\u0435\u0440\u0436\u043a\u0430 \u0430\u0440\u0442\u0438\u043a\u043b\u0435\u0439"
     ]
    },
    {
     "cell_type": "code",
     "collapsed": false,
     "input": [
      "pos = [\n",
      "    'an apple lies on the table',\n",
      "    'the apples lie on the table',\n",
      "    'a red apple lies on the ground',\n",
      "    'the red apple lies on the floor',\n",
      "    'a table stands',\n",
      "]\n",
      "\n",
      "neg = [\n",
      "    'an apples lie on the table',\n",
      "    'an apple lie on the table',\n",
      "    'an apples lies on an table',\n",
      "    'an apples lies on a tables',\n",
      "    'a apple lies on an floor',\n",
      "    'an apples lie on the table',\n",
      "    'the Mary eats a fork'\n",
      "]\n",
      "Assert(pos, neg, False)"
     ],
     "language": "python",
     "metadata": {},
     "outputs": [],
     "prompt_number": 376
    },
    {
     "cell_type": "markdown",
     "metadata": {},
     "source": [
      "\u0412\u0430\u043b\u0435\u043d\u0442\u043d\u043e\u0441\u0442\u044c \u0433\u043b\u0430\u0433\u043e\u043b\u043e\u0432"
     ]
    },
    {
     "cell_type": "code",
     "collapsed": false,
     "input": [
      "pos = [\n",
      "    'Mary sleeps',\n",
      "    'the dog catches the ball',\n",
      "    'Mary gives the ball to the dog',\n",
      "    'I jump over the table',\n",
      "    'I give the ball to the dog',\n",
      "    'I like my apple',\n",
      "    'I do not give you my balls'\n",
      "]\n",
      "\n",
      "neg = [\n",
      "    'Mary sleeps the ball',\n",
      "    'the dog catches to Mary',\n",
      "    'John gives on the street',\n",
      "    'John eat ball to Mary',\n",
      "    'I stand the table',\n",
      "    'I walk the apple'\n",
      "]\n",
      "\n",
      "Assert(pos, neg, False)"
     ],
     "language": "python",
     "metadata": {},
     "outputs": [],
     "prompt_number": 379
    },
    {
     "cell_type": "markdown",
     "metadata": {},
     "source": [
      "\u0412\u0441\u043f\u043e\u043c\u043e\u0433\u0430\u0442\u0435\u043b\u044c\u043d\u044b\u0435 \u0433\u043b\u0430\u0433\u043e\u043b\u044b: can, may, should"
     ]
    },
    {
     "cell_type": "code",
     "collapsed": false,
     "input": [
      "pos = [\n",
      "    'I should eat a burger',\n",
      "    'Mary can cook a pizza',\n",
      "    'a dog may cook',\n",
      "    'a dog can walk on the street',\n",
      "    'I can not sleep',\n",
      "    'I should complete my homework',\n",
      "]\n",
      "\n",
      "neg = [\n",
      "    'Mary should a pizza',\n",
      "    'John can it',\n",
      "    'a dog can may walk on the street',\n",
      "    'I should',\n",
      "    'she can red'\n",
      "]\n",
      "\n",
      "Assert(pos, neg, False)"
     ],
     "language": "python",
     "metadata": {},
     "outputs": [],
     "prompt_number": 398
    },
    {
     "cell_type": "markdown",
     "metadata": {},
     "source": [
      "\u041e\u0442\u0440\u0438\u0446\u0430\u043d\u0438\u0435 \u0432 \u0441\u043a\u0430\u0437\u0443\u0435\u043c\u043e\u043c"
     ]
    },
    {
     "cell_type": "code",
     "collapsed": false,
     "input": [
      "pos = [\n",
      "    'Mary does not walk on the street',\n",
      "    'I do not cook a cake',\n",
      "    'we do not sleep',\n",
      "    'they do not eat',\n",
      "    'it is a table',\n",
      "    'they are not red',\n",
      "    'I am not tired',\n",
      "    'I am not the table',\n",
      "    'I do not walk',\n",
      "]\n",
      "\n",
      "neg = [\n",
      "    'Mary does not cooks a pizza',\n",
      "    'I not cook a steak',\n",
      "    'you is the table',\n",
      "    'you does not cook',\n",
      "    'you am not the ball',\n",
      "    'he do not stand'\n",
      "]\n",
      "\n",
      "Assert(pos, neg, False)"
     ],
     "language": "python",
     "metadata": {},
     "outputs": [],
     "prompt_number": 409
    }
   ],
   "metadata": {}
  }
 ]
}